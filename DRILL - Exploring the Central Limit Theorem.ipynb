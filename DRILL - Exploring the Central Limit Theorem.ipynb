{
 "cells": [
  {
   "cell_type": "markdown",
   "metadata": {},
   "source": [
    "### This is the Central Limit Theorem DRILL exercise. "
   ]
  },
  {
   "cell_type": "code",
   "execution_count": 105,
   "metadata": {
    "collapsed": true
   },
   "outputs": [],
   "source": [
    "import numpy as np\n",
    "import pandas as pd\n",
    "import matplotlib.pyplot as plt\n",
    "from scipy.stats import ttest_ind\n",
    "%matplotlib inline"
   ]
  },
  {
   "cell_type": "code",
   "execution_count": 12,
   "metadata": {},
   "outputs": [
    {
     "data": {
      "text/plain": [
       "(array([   14.,    78.,   449.,  1225.,  2028.,  2456.,  2036.,  1205.,\n",
       "          409.,   100.]),\n",
       " array([  0.,   1.,   2.,   3.,   4.,   5.,   6.,   7.,   8.,   9.,  10.]),\n",
       " <a list of 10 Patch objects>)"
      ]
     },
     "execution_count": 12,
     "metadata": {},
     "output_type": "execute_result"
    },
    {
     "data": {
      "image/png": "[encoded data removed]",
      "text/plain": [
       "<matplotlib.figure.Figure at 0x11918e320>"
      ]
     },
     "metadata": {},
     "output_type": "display_data"
    }
   ],
   "source": [
    "pop1 = np.random.binomial(10,0.2,10000)\n",
    "pop2 = np.random.binomial(10,0.5,10000)\n",
    "\n",
    "plt.hist(pop1,alpha=0.5,label='Population 1')\n",
    "plt.hist(pop2,alpha=0.5,label='Population 2')"
   ]
  },
  {
   "cell_type": "code",
   "execution_count": 13,
   "metadata": {},
   "outputs": [
    {
     "name": "stdout",
     "output_type": "stream",
     "text": [
      "1.79 , 1.21074357318\n",
      "5.03 , 1.47278647468\n"
     ]
    }
   ],
   "source": [
    "sample1 = np.random.choice(pop1,100,replace=True)\n",
    "sample2 = np.random.choice(pop2,100,replace=True)\n",
    "\n",
    "print(sample1.mean(),',',sample1.std())\n",
    "print(sample2.mean(),',',sample2.std())"
   ]
  },
  {
   "cell_type": "markdown",
   "metadata": {},
   "source": [
    "#### Q1: Increase the size of your samples from 100 to 1000, then calculate the means and standard deviations for your new samples and create histograms for each. Repeat this again, decreasing the size of your samples to 20. What values change, and what remain the same?\n"
   ]
  },
  {
   "cell_type": "code",
   "execution_count": 14,
   "metadata": {},
   "outputs": [
    {
     "name": "stdout",
     "output_type": "stream",
     "text": [
      "1.984 , 1.26796845387\n",
      "4.964 , 1.54230476884\n"
     ]
    }
   ],
   "source": [
    "sample1 = np.random.choice(pop1,1000,replace=True)\n",
    "sample2 = np.random.choice(pop2,1000,replace=True)\n",
    "\n",
    "print(sample1.mean(),',',sample1.std())\n",
    "print(sample2.mean(),',',sample2.std())"
   ]
  },
  {
   "cell_type": "code",
   "execution_count": 15,
   "metadata": {},
   "outputs": [
    {
     "name": "stdout",
     "output_type": "stream",
     "text": [
      "1.6 , 1.2409673646\n",
      "4.7 , 1.61554944214\n"
     ]
    }
   ],
   "source": [
    "sample1 = np.random.choice(pop1,20,replace=True)\n",
    "sample2 = np.random.choice(pop2,20,replace=True)\n",
    "\n",
    "print(sample1.mean(),',',sample1.std())\n",
    "print(sample2.mean(),',',sample2.std())"
   ]
  },
  {
   "cell_type": "markdown",
   "metadata": {},
   "source": [
    "It seems mean is dependent on the sample size which varies when sample size is 1000 vs 20, where as standard deviation remains doesn't vary much with change in sample size."
   ]
  },
  {
   "cell_type": "markdown",
   "metadata": {},
   "source": [
    "#### Q2: Change the population value (p in the NumPy documentation) for pop1 to 0.3, then take new samples and compute the t-statistic and p-value. Then change the population value p for group 1 to 0.4, and do it again. What changes, and why?"
   ]
  },
  {
   "cell_type": "code",
   "execution_count": 118,
   "metadata": {},
   "outputs": [
    {
     "name": "stdout",
     "output_type": "stream",
     "text": [
      "Ttest_indResult(statistic=8.309199218061913, pvalue=1.5903287686924506e-14)\n"
     ]
    },
    {
     "data": {
      "image/png": "[encoded data removed]",
      "text/plain": [
       "<matplotlib.figure.Figure at 0x124bca6a0>"
      ]
     },
     "metadata": {},
     "output_type": "display_data"
    }
   ],
   "source": [
    "pop1 = np.random.binomial(10,0.3,10000)\n",
    "pop2 = np.random.binomial(10,0.5,10000)\n",
    "\n",
    "plt.hist(pop1,alpha=0.7,label='Pop 1')\n",
    "plt.hist(pop2,alpha=0.7,label='Pop 2')\n",
    "\n",
    "sample1 = np.random.choice(pop1,100,replace=True)\n",
    "sample2 = np.random.choice(pop2,100,replace=True)\n",
    "\n",
    "print(ttest_ind(sample2,sample1,equal_var=False))"
   ]
  },
  {
   "cell_type": "markdown",
   "metadata": {},
   "source": [
    "After testing above, t-statistics is 11.04 and p-value is 2.13"
   ]
  },
  {
   "cell_type": "markdown",
   "metadata": {},
   "source": [
    "Now Change the pop1 p value from 0.3 to 0.4, and verify t-statistics and p-value"
   ]
  },
  {
   "cell_type": "code",
   "execution_count": 147,
   "metadata": {},
   "outputs": [
    {
     "name": "stdout",
     "output_type": "stream",
     "text": [
      "Population 1 mean is 4.0\n",
      "Sample mean is 4.01\n",
      "Ttest_indResult(statistic=3.9127020828783521, pvalue=0.0001257059933834796)\n"
     ]
    },
    {
     "data": {
      "image/png": "[encoded data removed]",
      "text/plain": [
       "<matplotlib.figure.Figure at 0x124fac7f0>"
      ]
     },
     "metadata": {},
     "output_type": "display_data"
    }
   ],
   "source": [
    "pop1 = np.random.binomial(10,0.4,10000)\n",
    "pop2 = np.random.binomial(10,0.5,10000)\n",
    "\n",
    "plt.hist(pop1,alpha=0.7,label='Pop 1')\n",
    "plt.hist(pop2,alpha=0.7,label='Pop 2')\n",
    "\n",
    "sample1 = np.random.choice(pop1,100,replace=True)\n",
    "sample2 = np.random.choice(pop2,100,replace=True)\n",
    "\n",
    "# The population mean and sample mean comes closer as the sample size gets increased\n",
    "print('Population 1 mean is {}'.format(pop1.mean()))\n",
    "print('Sample mean is {}'.format(sample1.mean()))\n",
    "\n",
    "\n",
    "print(ttest_ind(sample2,sample1,equal_var=False))"
   ]
  },
  {
   "cell_type": "markdown",
   "metadata": {},
   "source": [
    "With p value of 0.4 the t-statistics got decreased and p-value increased. It seems there is no much difference in the samples when p-value is closer."
   ]
  },
  {
   "cell_type": "markdown",
   "metadata": {},
   "source": [
    "#### Q3: Change the distribution of your populations from binomial to a distribution of your choice. Do the sample mean values still accurately represent the population values?\n",
    "\n",
    "Lets take a poisson distribution and verify whether the sample mean represents the population mean or not."
   ]
  },
  {
   "cell_type": "code",
   "execution_count": 201,
   "metadata": {},
   "outputs": [
    {
     "name": "stdout",
     "output_type": "stream",
     "text": [
      "Population 1 mean 30.02138\n",
      "Sample 1 mean 30.072\n"
     ]
    },
    {
     "data": {
      "image/png": "[encoded data removed]",
      "text/plain": [
       "<matplotlib.figure.Figure at 0x125f49f98>"
      ]
     },
     "metadata": {},
     "output_type": "display_data"
    }
   ],
   "source": [
    "pop1 = np.random.poisson(30,100000)\n",
    "\n",
    "# take 100 sample from the population\n",
    "sample1 = np.random.choice(pop1,size=1000,replace=True)\n",
    "\n",
    "plt.hist(pop1)\n",
    "plt.hist(sample1)\n",
    "\n",
    "# Find the population and sample mean\n",
    "print('Population 1 mean {}'.format(pop1.mean()))\n",
    "print('Sample 1 mean {}'.format(sample1.mean()))"
   ]
  },
  {
   "cell_type": "markdown",
   "metadata": {},
   "source": [
    "#### Lets try with a normal distribution"
   ]
  },
  {
   "cell_type": "code",
   "execution_count": 195,
   "metadata": {},
   "outputs": [
    {
     "name": "stdout",
     "output_type": "stream",
     "text": [
      "Population mean 0.9882327932954439, std dev 19.832907086694053\n",
      "Sample mean 1.368968653105214, std dev 19.832907086694053\n"
     ]
    },
    {
     "data": {
      "image/png": "[encoded data removed]",
      "text/plain": [
       "<matplotlib.figure.Figure at 0x124e46b70>"
      ]
     },
     "metadata": {},
     "output_type": "display_data"
    }
   ],
   "source": [
    "pop1 = np.random.normal(1,20,10000)\n",
    "\n",
    "plt.hist(pop1)\n",
    "\n",
    "sample1 = np.random.choice(pop1,6000,replace=True)\n",
    "\n",
    "plt.hist(sample1)\n",
    "print('Population mean {}, std dev {}'.format(pop1.mean(),pop1.std()))\n",
    "print('Sample mean {}, std dev {}'.format(sample1.mean(),pop1.std()))"
   ]
  },
  {
   "cell_type": "markdown",
   "metadata": {},
   "source": [
    "I have taken a normal distribution with 10000 as population and a sample size of 100 where there is a big difference coming in the mean, where as the standard deviation remain same irrespective of the samlple size."
   ]
  },
  {
   "cell_type": "code",
   "execution_count": null,
   "metadata": {
    "collapsed": true
   },
   "outputs": [],
   "source": []
  }
 ],
 "metadata": {
  "kernelspec": {
   "display_name": "Python 3",
   "language": "python",
   "name": "python3"
  },
  "language_info": {
   "codemirror_mode": {
    "name": "ipython",
    "version": 3
   },
   "file_extension": ".py",
   "mimetype": "text/x-python",
   "name": "python",
   "nbconvert_exporter": "python",
   "pygments_lexer": "ipython3",
   "version": "3.6.1"
  }
 },
 "nbformat": 4,
 "nbformat_minor": 2
}
