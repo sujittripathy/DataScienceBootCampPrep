{
 "cells": [
  {
   "cell_type": "code",
   "execution_count": 124,
   "metadata": {
    "collapsed": true
   },
   "outputs": [],
   "source": [
    "import pandas as pd\n",
    "import matplotlib.pyplot as plt\n",
    "%matplotlib inline"
   ]
  },
  {
   "cell_type": "markdown",
   "metadata": {},
   "source": [
    "## Description of Data Set\n",
    "\n",
    "I am going to analyze on the Youtube trending videos of 2 months (Sep,Oct) in 2017 dataset derived from Kaggle (https://www.kaggle.com/datasnaek/youtube). \n",
    "First reading both USvideos.csv and UScomments.csv. There are few bad lines in the data set which is getting ignored with the additional flag"
   ]
  },
  {
   "cell_type": "code",
   "execution_count": 149,
   "metadata": {},
   "outputs": [
    {
     "name": "stderr",
     "output_type": "stream",
     "text": [
      "b'Skipping line 2401: expected 11 fields, saw 21\\nSkipping line 2800: expected 11 fields, saw 21\\nSkipping line 5297: expected 11 fields, saw 12\\nSkipping line 5299: expected 11 fields, saw 12\\nSkipping line 5300: expected 11 fields, saw 12\\nSkipping line 5301: expected 11 fields, saw 12\\n'\n"
     ]
    }
   ],
   "source": [
    "df_videos = pd.read_csv('./datasets/youtube/USvideos.csv',error_bad_lines=False)"
   ]
  },
  {
   "cell_type": "code",
   "execution_count": 11,
   "metadata": {},
   "outputs": [
    {
     "data": {
      "text/html": [
       "<div>\n",
       "<style>\n",
       "    .dataframe thead tr:only-child th {\n",
       "        text-align: right;\n",
       "    }\n",
       "\n",
       "    .dataframe thead th {\n",
       "        text-align: left;\n",
       "    }\n",
       "\n",
       "    .dataframe tbody tr th {\n",
       "        vertical-align: top;\n",
       "    }\n",
       "</style>\n",
       "<table border=\"1\" class=\"dataframe\">\n",
       "  <thead>\n",
       "    <tr style=\"text-align: right;\">\n",
       "      <th></th>\n",
       "      <th>video_id</th>\n",
       "      <th>title</th>\n",
       "      <th>channel_title</th>\n",
       "      <th>category_id</th>\n",
       "      <th>tags</th>\n",
       "      <th>views</th>\n",
       "      <th>likes</th>\n",
       "      <th>dislikes</th>\n",
       "      <th>comment_total</th>\n",
       "      <th>thumbnail_link</th>\n",
       "      <th>date</th>\n",
       "    </tr>\n",
       "  </thead>\n",
       "  <tbody>\n",
       "    <tr>\n",
       "      <th>1</th>\n",
       "      <td>K4wEI5zhHB0</td>\n",
       "      <td>iPhone X — Introducing iPhone X — Apple</td>\n",
       "      <td>Apple</td>\n",
       "      <td>28</td>\n",
       "      <td>Apple|iPhone 10|iPhone Ten|iPhone|Portrait Lig...</td>\n",
       "      <td>7860119</td>\n",
       "      <td>185853</td>\n",
       "      <td>26679</td>\n",
       "      <td>0</td>\n",
       "      <td>https://i.ytimg.com/vi/K4wEI5zhHB0/default.jpg</td>\n",
       "      <td>13.09</td>\n",
       "    </tr>\n",
       "    <tr>\n",
       "      <th>3</th>\n",
       "      <td>WYYvHb03Eog</td>\n",
       "      <td>Apple iPhone X first look</td>\n",
       "      <td>The Verge</td>\n",
       "      <td>28</td>\n",
       "      <td>apple iphone x hands on|Apple iPhone X|iPhone ...</td>\n",
       "      <td>2642103</td>\n",
       "      <td>24975</td>\n",
       "      <td>4542</td>\n",
       "      <td>12829</td>\n",
       "      <td>https://i.ytimg.com/vi/WYYvHb03Eog/default.jpg</td>\n",
       "      <td>13.09</td>\n",
       "    </tr>\n",
       "    <tr>\n",
       "      <th>7</th>\n",
       "      <td>_HTXMhKWqnA</td>\n",
       "      <td>iPhone X Impressions &amp; Hands On!</td>\n",
       "      <td>Marques Brownlee</td>\n",
       "      <td>28</td>\n",
       "      <td>iPhone X|iphone x|iphone 10|iPhone X impressio...</td>\n",
       "      <td>1728614</td>\n",
       "      <td>74062</td>\n",
       "      <td>2180</td>\n",
       "      <td>15297</td>\n",
       "      <td>https://i.ytimg.com/vi/_HTXMhKWqnA/default.jpg</td>\n",
       "      <td>13.09</td>\n",
       "    </tr>\n",
       "    <tr>\n",
       "      <th>15</th>\n",
       "      <td>1L7JFN7tQLs</td>\n",
       "      <td>iPhone X Hands on - Everything you need to know</td>\n",
       "      <td>Jonathan Morrison</td>\n",
       "      <td>28</td>\n",
       "      <td>Apple|iPhone X|iPhone 8|iPhone X unboxing|Appl...</td>\n",
       "      <td>514972</td>\n",
       "      <td>18936</td>\n",
       "      <td>641</td>\n",
       "      <td>3817</td>\n",
       "      <td>https://i.ytimg.com/vi/1L7JFN7tQLs/default.jpg</td>\n",
       "      <td>13.09</td>\n",
       "    </tr>\n",
       "    <tr>\n",
       "      <th>203</th>\n",
       "      <td>K4wEI5zhHB0</td>\n",
       "      <td>iPhone X — Introducing iPhone X — Apple</td>\n",
       "      <td>Apple</td>\n",
       "      <td>28</td>\n",
       "      <td>Apple|iPhone 10|iPhone Ten|iPhone|Portrait Lig...</td>\n",
       "      <td>12200526</td>\n",
       "      <td>258842</td>\n",
       "      <td>44339</td>\n",
       "      <td>0</td>\n",
       "      <td>https://i.ytimg.com/vi/K4wEI5zhHB0/default.jpg</td>\n",
       "      <td>14.09</td>\n",
       "    </tr>\n",
       "  </tbody>\n",
       "</table>\n",
       "</div>"
      ],
      "text/plain": [
       "        video_id                                            title  \\\n",
       "1    K4wEI5zhHB0          iPhone X — Introducing iPhone X — Apple   \n",
       "3    WYYvHb03Eog                        Apple iPhone X first look   \n",
       "7    _HTXMhKWqnA                 iPhone X Impressions & Hands On!   \n",
       "15   1L7JFN7tQLs  iPhone X Hands on - Everything you need to know   \n",
       "203  K4wEI5zhHB0          iPhone X — Introducing iPhone X — Apple   \n",
       "\n",
       "         channel_title  category_id  \\\n",
       "1                Apple           28   \n",
       "3            The Verge           28   \n",
       "7     Marques Brownlee           28   \n",
       "15   Jonathan Morrison           28   \n",
       "203              Apple           28   \n",
       "\n",
       "                                                  tags     views   likes  \\\n",
       "1    Apple|iPhone 10|iPhone Ten|iPhone|Portrait Lig...   7860119  185853   \n",
       "3    apple iphone x hands on|Apple iPhone X|iPhone ...   2642103   24975   \n",
       "7    iPhone X|iphone x|iphone 10|iPhone X impressio...   1728614   74062   \n",
       "15   Apple|iPhone X|iPhone 8|iPhone X unboxing|Appl...    514972   18936   \n",
       "203  Apple|iPhone 10|iPhone Ten|iPhone|Portrait Lig...  12200526  258842   \n",
       "\n",
       "     dislikes  comment_total                                  thumbnail_link  \\\n",
       "1       26679              0  https://i.ytimg.com/vi/K4wEI5zhHB0/default.jpg   \n",
       "3        4542          12829  https://i.ytimg.com/vi/WYYvHb03Eog/default.jpg   \n",
       "7        2180          15297  https://i.ytimg.com/vi/_HTXMhKWqnA/default.jpg   \n",
       "15        641           3817  https://i.ytimg.com/vi/1L7JFN7tQLs/default.jpg   \n",
       "203     44339              0  https://i.ytimg.com/vi/K4wEI5zhHB0/default.jpg   \n",
       "\n",
       "      date  \n",
       "1    13.09  \n",
       "3    13.09  \n",
       "7    13.09  \n",
       "15   13.09  \n",
       "203  14.09  "
      ]
     },
     "execution_count": 11,
     "metadata": {},
     "output_type": "execute_result"
    }
   ],
   "source": [
    "df_videos.head()"
   ]
  },
  {
   "cell_type": "markdown",
   "metadata": {},
   "source": [
    "### Q1. Find the top 10 channels trending videos tagged under iPhone based on their views. The goal is to find which channel is the best in the iPhone trending data set."
   ]
  },
  {
   "cell_type": "markdown",
   "metadata": {},
   "source": [
    "Searching DataFrame 'tags' columns which is tagged either iPhone or Apple, followed by sorting in Descending to get largest to smallest, followed by limiting to top10.\n",
    "Once the DataFrame is filtered and sorted, then plotting the same by using 'plot' method of DataFrame as a bar chart with a 'y-axis' range from 1 m to 20m range."
   ]
  },
  {
   "cell_type": "code",
   "execution_count": 150,
   "metadata": {},
   "outputs": [
    {
     "data": {
      "text/plain": [
       "<matplotlib.text.Text at 0x11ce17b70>"
      ]
     },
     "execution_count": 150,
     "metadata": {},
     "output_type": "execute_result"
    },
    {
     "data": {
      "image/png": "[encoded data removed]",
      "text/plain": [
       "<matplotlib.figure.Figure at 0x11cea2748>"
      ]
     },
     "metadata": {},
     "output_type": "display_data"
    }
   ],
   "source": [
    "df_videos_top = df_videos[df_videos['tags'].str.contains('iPhone' or 'Apple')].sort_values(by='views', ascending=False).head(10)\n",
    "ax = df_videos_top.plot(kind='bar',x='channel_title',y='views',title='Top10 iPhone channels')\n",
    "ax.set_xlabel('Channel Title')\n",
    "ax.set_ylabel('Views(in m)')"
   ]
  },
  {
   "cell_type": "markdown",
   "metadata": {},
   "source": [
    "### Q2. Find a relation between the category id and how many videos getting uploaded on that category. The goal is what is the category of highest trending videos. \n",
    "Below is the mapping of category name and mapping to their numeric id.\n",
    "https://gist.github.com/sujittripathy/29488b1dc9abd75bd79e62c0b3756203\n"
   ]
  },
  {
   "cell_type": "code",
   "execution_count": 137,
   "metadata": {},
   "outputs": [
    {
     "data": {
      "text/plain": [
       "<matplotlib.text.Text at 0x1203b0358>"
      ]
     },
     "execution_count": 137,
     "metadata": {},
     "output_type": "execute_result"
    },
    {
     "data": {
      "image/png": "[encoded data removed]",
      "text/plain": [
       "<matplotlib.figure.Figure at 0x12033c908>"
      ]
     },
     "metadata": {},
     "output_type": "display_data"
    }
   ],
   "source": [
    "cat_id_mapping = {2:'Autos & Vehicles',1:'Film & Animation',\n",
    "                  10:'Music',15:'Pets & Animals',17:'Sports',\n",
    "                 19:'Travel & Events',20:'Gaming',22:'People & Blogs',\n",
    "                 23:'Comedy',24:'Entertainment',25:'News & Politics',\n",
    "                 26:'Howto & Style',27:'Education',28:'Science & Technology',\n",
    "                  29:'Nonprofits & Activism',43:'Shows'}\n",
    "df_videos_gb = df_videos.groupby('category_id').count()['title']\n",
    "df_videos_gb = df_videos_gb.rename(cat_id_mapping)\n",
    "ax = df_videos_gb.plot(kind='bar',title='Video Categories by their Count',color='green',figsize=(10,5))\n",
    "ax.set_xlabel('Category')\n",
    "ax.set_ylabel('Count')\n"
   ]
  },
  {
   "cell_type": "markdown",
   "metadata": {},
   "source": [
    "### Q3. Create a single chart by showing the trends of like, dislike and comments of top 10 viewed trending videos. The goal to find what's the similarity of the top trending videos- do they have more comments? or likes? compare to one another."
   ]
  },
  {
   "cell_type": "markdown",
   "metadata": {},
   "source": [
    "### Q4. The goal is to find the number of trending videos fall in every 50k viewed count. This will give us an idea of what's the number of views on most trending videos."
   ]
  },
  {
   "cell_type": "code",
   "execution_count": 6,
   "metadata": {},
   "outputs": [
    {
     "data": {
      "text/plain": [
       "Index(['video_id', 'title', 'channel_title', 'category_id', 'tags', 'views',\n",
       "       'likes', 'dislikes', 'comment_total', 'thumbnail_link', 'date'],\n",
       "      dtype='object')"
      ]
     },
     "execution_count": 6,
     "metadata": {},
     "output_type": "execute_result"
    }
   ],
   "source": [
    "#all columns in df_videos\n",
    "df_videos.columns"
   ]
  },
  {
   "cell_type": "code",
   "execution_count": 7,
   "metadata": {},
   "outputs": [
    {
     "name": "stderr",
     "output_type": "stream",
     "text": [
      "b'Skipping line 41589: expected 4 fields, saw 11\\nSkipping line 51628: expected 4 fields, saw 7\\nSkipping line 114465: expected 4 fields, saw 5\\n'\n",
      "b'Skipping line 142496: expected 4 fields, saw 8\\nSkipping line 189732: expected 4 fields, saw 6\\nSkipping line 245218: expected 4 fields, saw 7\\n'\n",
      "b'Skipping line 388430: expected 4 fields, saw 5\\n'\n",
      "/Users/sujittripathy/anaconda/lib/python3.6/site-packages/IPython/core/interactiveshell.py:2717: DtypeWarning: Columns (2,3) have mixed types. Specify dtype option on import or set low_memory=False.\n",
      "  interactivity=interactivity, compiler=compiler, result=result)\n"
     ]
    }
   ],
   "source": [
    "df_comments = pd.read_csv('./datasets/youtube/UScomments.csv',error_bad_lines=False)"
   ]
  },
  {
   "cell_type": "code",
   "execution_count": 8,
   "metadata": {},
   "outputs": [
    {
     "data": {
      "text/html": [
       "<div>\n",
       "<style>\n",
       "    .dataframe thead tr:only-child th {\n",
       "        text-align: right;\n",
       "    }\n",
       "\n",
       "    .dataframe thead th {\n",
       "        text-align: left;\n",
       "    }\n",
       "\n",
       "    .dataframe tbody tr th {\n",
       "        vertical-align: top;\n",
       "    }\n",
       "</style>\n",
       "<table border=\"1\" class=\"dataframe\">\n",
       "  <thead>\n",
       "    <tr style=\"text-align: right;\">\n",
       "      <th></th>\n",
       "      <th>video_id</th>\n",
       "      <th>comment_text</th>\n",
       "      <th>likes</th>\n",
       "      <th>replies</th>\n",
       "    </tr>\n",
       "  </thead>\n",
       "  <tbody>\n",
       "    <tr>\n",
       "      <th>0</th>\n",
       "      <td>XpVt6Z1Gjjo</td>\n",
       "      <td>Logan Paul it's yo big day ‼️‼️‼️</td>\n",
       "      <td>4</td>\n",
       "      <td>0</td>\n",
       "    </tr>\n",
       "    <tr>\n",
       "      <th>1</th>\n",
       "      <td>XpVt6Z1Gjjo</td>\n",
       "      <td>I've been following you from the start of your...</td>\n",
       "      <td>3</td>\n",
       "      <td>0</td>\n",
       "    </tr>\n",
       "    <tr>\n",
       "      <th>2</th>\n",
       "      <td>XpVt6Z1Gjjo</td>\n",
       "      <td>Say hi to Kong and maverick for me</td>\n",
       "      <td>3</td>\n",
       "      <td>0</td>\n",
       "    </tr>\n",
       "    <tr>\n",
       "      <th>3</th>\n",
       "      <td>XpVt6Z1Gjjo</td>\n",
       "      <td>MY FAN . attendance</td>\n",
       "      <td>3</td>\n",
       "      <td>0</td>\n",
       "    </tr>\n",
       "    <tr>\n",
       "      <th>4</th>\n",
       "      <td>XpVt6Z1Gjjo</td>\n",
       "      <td>trending 😉</td>\n",
       "      <td>3</td>\n",
       "      <td>0</td>\n",
       "    </tr>\n",
       "  </tbody>\n",
       "</table>\n",
       "</div>"
      ],
      "text/plain": [
       "      video_id                                       comment_text likes  \\\n",
       "0  XpVt6Z1Gjjo                  Logan Paul it's yo big day ‼️‼️‼️     4   \n",
       "1  XpVt6Z1Gjjo  I've been following you from the start of your...     3   \n",
       "2  XpVt6Z1Gjjo                 Say hi to Kong and maverick for me     3   \n",
       "3  XpVt6Z1Gjjo                                MY FAN . attendance     3   \n",
       "4  XpVt6Z1Gjjo                                         trending 😉     3   \n",
       "\n",
       "  replies  \n",
       "0       0  \n",
       "1       0  \n",
       "2       0  \n",
       "3       0  \n",
       "4       0  "
      ]
     },
     "execution_count": 8,
     "metadata": {},
     "output_type": "execute_result"
    }
   ],
   "source": [
    "df_comments.head()"
   ]
  },
  {
   "cell_type": "code",
   "execution_count": null,
   "metadata": {
    "collapsed": true
   },
   "outputs": [],
   "source": []
  }
 ],
 "metadata": {
  "kernelspec": {
   "display_name": "Python 3",
   "language": "python",
   "name": "python3"
  },
  "language_info": {
   "codemirror_mode": {
    "name": "ipython",
    "version": 3
   },
   "file_extension": ".py",
   "mimetype": "text/x-python",
   "name": "python",
   "nbconvert_exporter": "python",
   "pygments_lexer": "ipython3",
   "version": "3.6.1"
  }
 },
 "nbformat": 4,
 "nbformat_minor": 2
}
