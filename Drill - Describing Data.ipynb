{
 "cells": [
  {
   "cell_type": "markdown",
   "metadata": {},
   "source": [
    "**Q1: Greg was 14, Marcia was 12, Peter was 11, Jan was 10, Bobby was 8, and Cindy was 6 when they started playing the Brady kids on The Brady Bunch. Cousin Oliver was 8 years old when he joined the show. What are the mean, median, and mode of the kids' ages when they first appeared on the show? What are the variance, standard deviation, and standard error?**\n",
    "\n",
    "A: Greg - 14, Marcia - 12, Peter - 11, Jan - 10, Bobby - 8, Cindy - 6, Oliver - 8\n",
    "\n",
    "The sorting sequence is - 6,8,8,10,11,12,14\n",
    "\n",
    "  **mean** - total age (69)/ total count (7) = 9.85\n",
    "  \n",
    "  **median** - The middle number is 10, as the total count is odd.\n",
    "  \n",
    "  **mode** - The mode is 8 as 8 is appearing twice.\n",
    "  \n",
    "  **variance** - variance is sum of squared diff from mean/total count n.\n",
    "              [(14-9.85)sq2+(12-9.85)sq2+(11-9.85)sq2+(10-9.85)sq2+(8-9.85)sq2+(6-9.85)sq2+(8-9.85)sq2]\n",
    "              /\n",
    "              6\n",
    "              = 17.22+4.62+1.32+0.02+3.42+14.82+3.42\n",
    "              = 44.84/6 (n-1, not n) = 7.47\n",
    "  \n",
    "  **std dev** - square root of variance 7.47 = 2.73\n",
    "  \n",
    "  **std err** - std dev/sqrt of n = 2.73/sqrt(7) = 2.73/2.64 = 1.03\n"
   ]
  },
  {
   "cell_type": "markdown",
   "metadata": {},
   "source": [
    "**Q2: Using these estimates, if you had to choose only one estimate of central tendency and one estimate of variance to describe the data, which would you pick and why?**\n",
    "\n",
    "A: Out of these I would pick the mean which 9.85. Here mean makes sense because there is no outlier which normally skewed up the mean on the larger value however on the above data set that's not the case. If there is outlier on the larger side then median number makes sense.\n",
    "\n",
    "one estimate of variance to describe the data? Is it the variance number which is 7.47?"
   ]
  },
  {
   "cell_type": "markdown",
   "metadata": {},
   "source": [
    "**Q3: Next, Cindy has a birthday. Update your estimates- what changed, and what didn't?**"
   ]
  },
  {
   "cell_type": "markdown",
   "metadata": {},
   "source": [
    "As Cindy has birthday so it's increased from 6 to 7.\n",
    "\n",
    "Greg - 14, Marcia - 12, Peter - 11, Jan - 10, Bobby - 8, Cindy - 7, Oliver - 8\n",
    "\n",
    "The new sorting sequence is - 7,8,8,10,11,12,14\n",
    "\n",
    "Here is the new values :\n",
    "\n",
    "mean - 10 (changed from 9.85)\n",
    "\n",
    "median - median is still 10 as the change doesn't impact on middle number.\n",
    "\n",
    "mode - mode is still 8 which is repeated twice and no change with new update.\n",
    "\n",
    "variance - 6.33 (reduced by 1.14, earlier 7.47)\n",
    "\n",
    "std dev- 2.51 (reduced from 2.73, as the increase of the number makes towards the mean)\n",
    "\n",
    "std err- 2.51/sqrt(7) - 0.94 (reduced from 1.03)\n"
   ]
  },
  {
   "cell_type": "markdown",
   "metadata": {},
   "source": [
    "**Q4: Nobody likes Cousin Oliver. Maybe the network should have used an even younger actor. Replace Cousin Oliver with 1-year-old Jessica, then recalculate again. Does this change your choice of central tendency or variance estimation methods?**"
   ]
  },
  {
   "cell_type": "markdown",
   "metadata": {},
   "source": [
    "Now Jessica is replaced by Oliver which is age 1 so, lets replace and do the stats -\n",
    "\n",
    "Greg - 14, Marcia - 12, Peter - 11, Jan - 10, Bobby - 8, Cindy - 7, Jessica - 1\n",
    "\n",
    "The new new sequence is - 1,7,8,10,11,12,14\n",
    "\n",
    "mean - 9 (63/7)\n",
    "\n",
    "median - 10\n",
    "\n",
    "mode - na\n",
    "\n",
    "variance - 18 (112/6(n-1)\n",
    "\n",
    "std dev - 4.24\n",
    "\n",
    "std err - 4.24/sqrt(7) = 4.24/2.64 = 1.60 (increased)\n",
    "\n",
    "After seeing the new data, I am finding there is minor difference with mean and median so will go with the mean which is 9 as earlier. For variance will go for std dev??\n"
   ]
  },
  {
   "cell_type": "markdown",
   "metadata": {},
   "source": [
    "**Q5: On the 50th anniversary of The Brady Bunch, four different magazines asked their readers whether they were fans of the show. The answers were: TV Guide 20% fans Entertainment Weekly 23% fans Pop Culture Today 17% fans SciPhi Phanatic 5% fans\n",
    "Based on these numbers, what percentage of adult Americans would you estimate were Brady Bunch fans on the 50th anniversary of the show?**"
   ]
  },
  {
   "cell_type": "markdown",
   "metadata": {},
   "source": [
    "TV Guide - 20\n",
    "Entertainment Weekly - 23\n",
    "Pop Culture Today - 17\n",
    "SciPhi Phanatic - 5\n",
    "\n",
    "In sorting Order - 5,17,20,23\n",
    "\n",
    "Afte seeing the data I would like to take the median value to find the fans compare to mean because one of the number is 5%.\n",
    "\n",
    "The mean score is - 16.25\n",
    "\n",
    "The median here is - 18.5. \n",
    "\n",
    "So 18% adult americans were Brady Bunch fans on the 50the anniversary."
   ]
  },
  {
   "cell_type": "code",
   "execution_count": null,
   "metadata": {
    "collapsed": true
   },
   "outputs": [],
   "source": []
  }
 ],
 "metadata": {
  "kernelspec": {
   "display_name": "Python 3",
   "language": "python",
   "name": "python3"
  },
  "language_info": {
   "codemirror_mode": {
    "name": "ipython",
    "version": 3
   },
   "file_extension": ".py",
   "mimetype": "text/x-python",
   "name": "python",
   "nbconvert_exporter": "python",
   "pygments_lexer": "ipython3",
   "version": "3.6.1"
  }
 },
 "nbformat": 4,
 "nbformat_minor": 2
}
