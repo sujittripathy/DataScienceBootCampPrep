{
 "cells": [
  {
   "cell_type": "code",
   "execution_count": 1,
   "metadata": {
    "collapsed": true
   },
   "outputs": [],
   "source": [
    "import pandas as pd"
   ]
  },
  {
   "cell_type": "code",
   "execution_count": 2,
   "metadata": {
    "collapsed": true
   },
   "outputs": [],
   "source": [
    "df = pd.DataFrame()"
   ]
  },
  {
   "cell_type": "code",
   "execution_count": 3,
   "metadata": {
    "collapsed": true
   },
   "outputs": [],
   "source": [
    "df['PRIM_STATE'] = ['CA','CA','CA','CA','CA','CA']"
   ]
  },
  {
   "cell_type": "code",
   "execution_count": 6,
   "metadata": {
    "collapsed": true
   },
   "outputs": [],
   "source": [
    "df['AREA'] = ['31080','31080','31080','31080','31080','31080']\n"
   ]
  },
  {
   "cell_type": "code",
   "execution_count": 11,
   "metadata": {
    "collapsed": true
   },
   "outputs": [],
   "source": [
    "df['OCC_CODE']=['00-0000','11-0000','11-1011','11-1021','11-1031','11-2011']\n",
    "df['OCC_TITLE']=['All Occ','Management Occ','Chief Ex','General and Ops Mgr','Lesig','Adv & Prom Mgr']\n",
    "df['OCC_GROUP']=['total','major','detailed','detailed','detailed','detailed']\n",
    "df['H_MEAN']=[26.75,61.80,110.04,66.78,'*',57.35]"
   ]
  },
  {
   "cell_type": "code",
   "execution_count": 12,
   "metadata": {},
   "outputs": [
    {
     "data": {
      "text/html": [
       "<div>\n",
       "<style>\n",
       "    .dataframe thead tr:only-child th {\n",
       "        text-align: right;\n",
       "    }\n",
       "\n",
       "    .dataframe thead th {\n",
       "        text-align: left;\n",
       "    }\n",
       "\n",
       "    .dataframe tbody tr th {\n",
       "        vertical-align: top;\n",
       "    }\n",
       "</style>\n",
       "<table border=\"1\" class=\"dataframe\">\n",
       "  <thead>\n",
       "    <tr style=\"text-align: right;\">\n",
       "      <th></th>\n",
       "      <th>PRIM_STATE</th>\n",
       "      <th>AREA</th>\n",
       "      <th>OCC_CODE</th>\n",
       "      <th>OCC_TITLE</th>\n",
       "      <th>OCC_GROUP</th>\n",
       "      <th>H_MEAN</th>\n",
       "    </tr>\n",
       "  </thead>\n",
       "  <tbody>\n",
       "    <tr>\n",
       "      <th>0</th>\n",
       "      <td>CA</td>\n",
       "      <td>31080</td>\n",
       "      <td>00-0000</td>\n",
       "      <td>All Occ</td>\n",
       "      <td>total</td>\n",
       "      <td>26.75</td>\n",
       "    </tr>\n",
       "    <tr>\n",
       "      <th>1</th>\n",
       "      <td>CA</td>\n",
       "      <td>31080</td>\n",
       "      <td>11-0000</td>\n",
       "      <td>Management Occ</td>\n",
       "      <td>major</td>\n",
       "      <td>61.8</td>\n",
       "    </tr>\n",
       "    <tr>\n",
       "      <th>2</th>\n",
       "      <td>CA</td>\n",
       "      <td>31080</td>\n",
       "      <td>11-1011</td>\n",
       "      <td>Chief Ex</td>\n",
       "      <td>detailed</td>\n",
       "      <td>110.04</td>\n",
       "    </tr>\n",
       "    <tr>\n",
       "      <th>3</th>\n",
       "      <td>CA</td>\n",
       "      <td>31080</td>\n",
       "      <td>11-1021</td>\n",
       "      <td>General and Ops Mgr</td>\n",
       "      <td>detailed</td>\n",
       "      <td>66.78</td>\n",
       "    </tr>\n",
       "    <tr>\n",
       "      <th>4</th>\n",
       "      <td>CA</td>\n",
       "      <td>31080</td>\n",
       "      <td>11-1031</td>\n",
       "      <td>Lesig</td>\n",
       "      <td>detailed</td>\n",
       "      <td>*</td>\n",
       "    </tr>\n",
       "    <tr>\n",
       "      <th>5</th>\n",
       "      <td>CA</td>\n",
       "      <td>31080</td>\n",
       "      <td>11-2011</td>\n",
       "      <td>Adv &amp; Prom Mgr</td>\n",
       "      <td>detailed</td>\n",
       "      <td>57.35</td>\n",
       "    </tr>\n",
       "  </tbody>\n",
       "</table>\n",
       "</div>"
      ],
      "text/plain": [
       "  PRIM_STATE   AREA OCC_CODE            OCC_TITLE OCC_GROUP  H_MEAN\n",
       "0         CA  31080  00-0000              All Occ     total   26.75\n",
       "1         CA  31080  11-0000       Management Occ     major    61.8\n",
       "2         CA  31080  11-1011             Chief Ex  detailed  110.04\n",
       "3         CA  31080  11-1021  General and Ops Mgr  detailed   66.78\n",
       "4         CA  31080  11-1031                Lesig  detailed       *\n",
       "5         CA  31080  11-2011       Adv & Prom Mgr  detailed   57.35"
      ]
     },
     "execution_count": 12,
     "metadata": {},
     "output_type": "execute_result"
    }
   ],
   "source": [
    "df"
   ]
  },
  {
   "cell_type": "code",
   "execution_count": 38,
   "metadata": {},
   "outputs": [
    {
     "data": {
      "text/plain": [
       "61.799999999999997"
      ]
     },
     "execution_count": 38,
     "metadata": {},
     "output_type": "execute_result"
    }
   ],
   "source": [
    "major = df[df['OCC_GROUP']=='major']['H_MEAN'].mean()\n",
    "major"
   ]
  },
  {
   "cell_type": "code",
   "execution_count": 24,
   "metadata": {
    "collapsed": true
   },
   "outputs": [],
   "source": [
    "#major.apply(lambda x:x['OCC_GROUP']=='major')"
   ]
  },
  {
   "cell_type": "code",
   "execution_count": 21,
   "metadata": {},
   "outputs": [
    {
     "name": "stdout",
     "output_type": "stream",
     "text": [
      "<class 'tuple'>\n",
      "SFO 70 Clear\n"
     ]
    }
   ],
   "source": [
    "def sample_func():\n",
    "    # Lets return a tuple of SFO weather\n",
    "    return ('SFO',70,'Clear')\n",
    "\n",
    "a = sample_func()\n",
    "print(type(a))\n",
    "print(a[0],a[1],a[2])"
   ]
  },
  {
   "cell_type": "code",
   "execution_count": null,
   "metadata": {
    "collapsed": true
   },
   "outputs": [],
   "source": []
  }
 ],
 "metadata": {
  "kernelspec": {
   "display_name": "Python 3",
   "language": "python",
   "name": "python3"
  },
  "language_info": {
   "codemirror_mode": {
    "name": "ipython",
    "version": 3
   },
   "file_extension": ".py",
   "mimetype": "text/x-python",
   "name": "python",
   "nbconvert_exporter": "python",
   "pygments_lexer": "ipython3",
   "version": "3.6.1"
  }
 },
 "nbformat": 4,
 "nbformat_minor": 2
}
