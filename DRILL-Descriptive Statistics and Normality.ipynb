{
 "cells": [
  {
   "cell_type": "code",
   "execution_count": 1,
   "metadata": {
    "collapsed": true
   },
   "outputs": [],
   "source": [
    "import numpy as np\n",
    "import matplotlib.pyplot as plt\n",
    "import scipy.stats as stats\n",
    "import seaborn as sns\n",
    "%matplotlib inline"
   ]
  },
  {
   "cell_type": "markdown",
   "metadata": {},
   "source": [
    "#### Q1: Taking a normal distribution with 100 data points, mean as 1 and standard deviation as 10."
   ]
  },
  {
   "cell_type": "code",
   "execution_count": 32,
   "metadata": {
    "collapsed": true
   },
   "outputs": [],
   "source": [
    "#create a normal distribution with mean=1, std=1\n",
    "normal_dist_us = np.random.normal(1,10,100)"
   ]
  },
  {
   "cell_type": "markdown",
   "metadata": {},
   "source": [
    "#### Q2: Plotting the histogram for the normal distribution"
   ]
  },
  {
   "cell_type": "code",
   "execution_count": 33,
   "metadata": {},
   "outputs": [
    {
     "data": {
      "text/plain": [
       "(array([  1.,   0.,   2.,   7.,  21.,  25.,  16.,  12.,  11.,   5.]),\n",
       " array([-32.82817368, -27.00366892, -21.17916415, -15.35465938,\n",
       "         -9.53015462,  -3.70564985,   2.11885492,   7.94335968,\n",
       "         13.76786445,  19.59236922,  25.41687398]),\n",
       " <a list of 10 Patch objects>)"
      ]
     },
     "execution_count": 33,
     "metadata": {},
     "output_type": "execute_result"
    },
    {
     "data": {
      "image/png": "[encoded data removed]",
      "text/plain": [
       "<matplotlib.figure.Figure at 0x11deab898>"
      ]
     },
     "metadata": {},
     "output_type": "display_data"
    }
   ],
   "source": [
    "plt.hist(normal_dist_us)"
   ]
  },
  {
   "cell_type": "markdown",
   "metadata": {},
   "source": [
    "#### Q3: Find mean and standard deviation and plot them in histogram."
   ]
  },
  {
   "cell_type": "code",
   "execution_count": 34,
   "metadata": {},
   "outputs": [
    {
     "name": "stdout",
     "output_type": "stream",
     "text": [
      "0.908220818972 10.3507507629\n"
     ]
    },
    {
     "data": {
      "text/plain": [
       "<matplotlib.lines.Line2D at 0x11e214908>"
      ]
     },
     "execution_count": 34,
     "metadata": {},
     "output_type": "execute_result"
    },
    {
     "data": {
      "image/png": "[encoded data removed]",
      "text/plain": [
       "<matplotlib.figure.Figure at 0x11e0b6ba8>"
      ]
     },
     "metadata": {},
     "output_type": "display_data"
    }
   ],
   "source": [
    "# Find mean & standard deviation. Plot the vertical line mean and mean+1 std\n",
    "mean = np.mean(normal_dist)\n",
    "std = np.std(normal_dist)\n",
    "\n",
    "print(mean,std)\n",
    "plt.hist(normal_dist_us)\n",
    "plt.axvline(mean,linewidth=2,color='r')\n",
    "plt.axvline(mean+std,linewidth=3,color='c',linestyle='dotted')\n",
    "plt.axvline(mean-std,linewidth=3,color='c',linestyle='dotted')"
   ]
  },
  {
   "cell_type": "markdown",
   "metadata": {},
   "source": [
    "#### Q4: As I have taken the normal distribution with mean 1 and standard deviation as 10, the majority of the data is being fallen in the one stanard deviation from mean as shown in the above plot."
   ]
  },
  {
   "cell_type": "markdown",
   "metadata": {},
   "source": [
    "## Additional Exercise"
   ]
  },
  {
   "cell_type": "markdown",
   "metadata": {},
   "source": [
    "#### Q1: Created two normal distribution one with mean 5, std 0.5 where as the other mean is 10, std 1."
   ]
  },
  {
   "cell_type": "code",
   "execution_count": 53,
   "metadata": {
    "collapsed": true
   },
   "outputs": [],
   "source": [
    "normal_dist_1 = np.random.normal(5,0.5,100)\n",
    "normal_dist_2 = np.random.normal(10,1,100)"
   ]
  },
  {
   "cell_type": "markdown",
   "metadata": {},
   "source": [
    "#### Q2: Added both the distribution created above"
   ]
  },
  {
   "cell_type": "code",
   "execution_count": 54,
   "metadata": {
    "collapsed": true
   },
   "outputs": [],
   "source": [
    "normal_dist_sum = normal_dist_1 + normal_dist_2"
   ]
  },
  {
   "cell_type": "markdown",
   "metadata": {},
   "source": [
    "#### Q3: Graph the histogram"
   ]
  },
  {
   "cell_type": "code",
   "execution_count": 55,
   "metadata": {},
   "outputs": [
    {
     "data": {
      "text/plain": [
       "(array([  7.,   7.,  10.,  15.,  20.,  22.,   9.,   5.,   3.,   2.]),\n",
       " array([ 12.58903706,  13.08056742,  13.57209778,  14.06362814,\n",
       "         14.5551585 ,  15.04668886,  15.53821922,  16.02974958,\n",
       "         16.52127994,  17.0128103 ,  17.50434066]),\n",
       " <a list of 10 Patch objects>)"
      ]
     },
     "execution_count": 55,
     "metadata": {},
     "output_type": "execute_result"
    },
    {
     "data": {
      "image/png": "[encoded data removed]",
      "text/plain": [
       "<matplotlib.figure.Figure at 0x11ec04b70>"
      ]
     },
     "metadata": {},
     "output_type": "display_data"
    }
   ],
   "source": [
    "plt.hist(normal_dist_sum)"
   ]
  },
  {
   "cell_type": "markdown",
   "metadata": {},
   "source": [
    "#### Q4: Compute the mean and std deviation. Plot them on histogram."
   ]
  },
  {
   "cell_type": "code",
   "execution_count": 56,
   "metadata": {},
   "outputs": [
    {
     "name": "stdout",
     "output_type": "stream",
     "text": [
      "14.7781691097 1.01826706023\n"
     ]
    },
    {
     "data": {
      "text/plain": [
       "<matplotlib.lines.Line2D at 0x11f2c94a8>"
      ]
     },
     "execution_count": 56,
     "metadata": {},
     "output_type": "execute_result"
    },
    {
     "data": {
      "image/png": "[encoded data removed]",
      "text/plain": [
       "<matplotlib.figure.Figure at 0x11f06c978>"
      ]
     },
     "metadata": {},
     "output_type": "display_data"
    }
   ],
   "source": [
    "mean = normal_dist_sum.mean()\n",
    "std = normal_dist_sum.std()\n",
    "print(mean,std)\n",
    "\n",
    "plt.hist(normal_dist_sum)\n",
    "plt.axvline(mean,linewidth=2,color='r')\n",
    "plt.axvline(mean+std,linewidth=2,linestyle='dashed',color='c')\n",
    "plt.axvline(mean-std,linewidth=2,linestyle='dashed',color='c')"
   ]
  },
  {
   "cell_type": "markdown",
   "metadata": {},
   "source": [
    "#### Q5: Below is the details of summed distribution:\n",
    "mean = 14\n",
    "std = 1\n",
    "\n",
    "This seems 'mean' is getting add up from both distribution 14 where as 'standard deviation' is taking from the max std distribution which is 1 "
   ]
  },
  {
   "cell_type": "code",
   "execution_count": null,
   "metadata": {
    "collapsed": true
   },
   "outputs": [],
   "source": []
  }
 ],
 "metadata": {
  "kernelspec": {
   "display_name": "Python 3",
   "language": "python",
   "name": "python3"
  },
  "language_info": {
   "codemirror_mode": {
    "name": "ipython",
    "version": 3
   },
   "file_extension": ".py",
   "mimetype": "text/x-python",
   "name": "python",
   "nbconvert_exporter": "python",
   "pygments_lexer": "ipython3",
   "version": "3.6.1"
  }
 },
 "nbformat": 4,
 "nbformat_minor": 2
}
