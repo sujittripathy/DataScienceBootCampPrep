{
 "cells": [
  {
   "cell_type": "code",
   "execution_count": 39,
   "metadata": {},
   "outputs": [],
   "source": [
    "import numpy as np\n",
    "import pandas as pd\n",
    "import matplotlib.pyplot as plt\n",
    "from scipy.stats import ttest_ind\n",
    "%matplotlib inline"
   ]
  },
  {
   "cell_type": "code",
   "execution_count": 27,
   "metadata": {},
   "outputs": [
    {
     "data": {
      "image/png": "[encoded data removed]",
      "text/plain": [
       "<matplotlib.figure.Figure at 0x113a892e8>"
      ]
     },
     "metadata": {},
     "output_type": "display_data"
    }
   ],
   "source": [
    "rand1 = np.random.normal(1,1,100)\n",
    "\n",
    "count,bins,ignored = plt.hist(rand1,30,normed=True)\n",
    "plt.hist(rand1)\n",
    "plt.show()"
   ]
  },
  {
   "cell_type": "code",
   "execution_count": 45,
   "metadata": {},
   "outputs": [
    {
     "data": {
      "image/png": "[encoded data removed]",
      "text/plain": [
       "<matplotlib.figure.Figure at 0x11748d198>"
      ]
     },
     "metadata": {},
     "output_type": "display_data"
    }
   ],
   "source": [
    "pop1 = np.random.binomial(10,0.2,10000)\n",
    "pop2 = np.random.binomial(10,0.5,10000)\n",
    "\n",
    "plt.hist(pop1,alpha=0.7,label='Population 1')\n",
    "plt.hist(pop2,alpha=0.7,label='Population 2')\n",
    "plt.legend(loc='upper right')\n",
    "plt.show()"
   ]
  },
  {
   "cell_type": "code",
   "execution_count": 46,
   "metadata": {},
   "outputs": [
    {
     "name": "stdout",
     "output_type": "stream",
     "text": [
      "[1 2 2 4 3 0 7 0 0 0 1 1 1 1 1 2 4 1 1 5 1 1 3 1 3 2 2 2 2 2 3 5 1 0 0 0 1\n",
      " 2 0 3 1 2 3 0 1 3 4 1 2 1 1 4 1 2 4 5 3 3 4 1 3 2 3 3 0 4 3 3 4 2 2 0 1 2\n",
      " 1 2 2 2 2 0 4 1 4 0 3 5 3 2 4 3 2 2 3 1 3 3 1 3 2 2 1 3 2 1 0 2 2 2 2 1 2\n",
      " 3 2 2 1 3 3 2 2 0 6 0 1 0 0 1 3 0 2 4 1 2 2 0 1 2 1 2 3 1 3 2 3 1 0 2 1 3\n",
      " 2 0 1 1 1 2 2 0 1 4 2 2 4 0 3 2 1 1 2 2 1 4 2 2 1 1 4 2 4 2 2 0 3 1 4 2 2\n",
      " 2 1 2 2 4 1 3 4 2 4 2 2 1 3 2 0 1 2 1 2 1 2 4 1 1 2 1 1 0 1 4 3 2 1 1 3 0\n",
      " 2 2 1 1 3 2 3 1 3 1 1 1 2 3 1 1 2 2 3 1 2 3 4 3 4 3 1 1 1 1 3 2 2 2 1 0 4\n",
      " 2 2 2 2 2 3 3 0 2 3 2 1 0 3 2 0 2 2 0 1 4 3 2 0 3 2 2 1 4 5 1 0 1 3 3 1 5\n",
      " 3 2 1 3 3 3 4 3 4 4 0 3 2 1 1 0 2 3 3 1 0 2 1 2 4 1 4 0 2 1 2 2 1 5 4 2 4\n",
      " 0 3 1 2 2 1 1 1 2 5 3 5 2 0 4 2 2 2 2 1 1 3 3 1 1 2 0 3 2 2 3 2 1 2 1 2 2\n",
      " 3 1 2 3 1 3 4 4 1 2 2 2 3 2 3 1 1 0 2 3 3 1 2 2 2 2 3 2 0 3 4 3 2 3 0 1 0\n",
      " 2 1 4 1 3 2 2 3 4 0 0 1 0 2 4 1 1 3 2 2 3 0 2 2 2 3 1 1 2 0 1 4 1 2 6 1 2\n",
      " 1 2 2 1 1 2 1 1 0 0 1 2 0 2 2 0 1 1 2 2 2 2 3 1 0 3 2 3 2 2 2 2 3 1 2 1 1\n",
      " 1 5 0 3 0 0 3 1 1 1 3 5 2 1 2 2 1 1 1 1 5 4 1 2 1 4 0 2 1 1 2 1 3 2 4 4 2\n",
      " 1 3 1 3 2 1 1 3 3 2 2 5 2 3 2 1 4 3 1 1 2 4 2 2 3 1 2 0 2 1 1 1 1 3 2 2 2\n",
      " 3 2 2 2 4 2 0 1 1 3 2 2 2 2 1 1 2 1 0 1 2 3 1 1 3 2 1 4 2 2 1 4 2 3 0 2 1\n",
      " 4 1 3 3 2 0 2 0 3 1 4 2 2 4 1 2 0 1 3 2 1 2 0 0 3 2 3 2 3 3 4 1 1 2 3 3 2\n",
      " 3 2 5 3 3 2 1 1 3 1 1 2 3 2 2 1 2 3 2 2 3 2 1 3 3 3 2 1 2 0 5 2 2 3 2 3 2\n",
      " 4 3 3 3 1 2 2 5 2 4 1 2 5 3 3 2 1 3 2 3 4 1 3 1 1 3 0 3 2 2 1 1 0 3 0 0 1\n",
      " 3 2 3 3 3 0 1 4 3 2 0 3 1 1 2 1 2 5 4 1 1 5 1 2 1 4 4 1 2 4 1 4 3 3 2 4 1\n",
      " 3 0 2 0 2 1 1 1 2 3 2 0 1 1 2 2 2 4 1 1 1 2 0 4 1 3 2 0 1 2 3 0 5 5 1 1 3\n",
      " 2 3 0 0 4 1 2 3 2 2 1 1 4 2 2 2 0 2 5 4 0 1 2 2 2 2 2 3 4 0 3 3 2 3 1 1 3\n",
      " 2 1 3 4 1 1 3 2 0 1 1 1 2 2 2 2 1 2 3 3 3 2 1 1 3 4 2 3 2 5 3 2 1 1 2 0 0\n",
      " 2 1 1 2 2 2 3 3 1 5 2 2 2 3 3 2 4 3 2 2 1 2 0 2 4 3 2 2 3 2 4 0 1 3 2 2 2\n",
      " 1 3 2 1 2 3 3 3 2 3 1 3 1 1 3 2 5 3 4 1 1 1 3 1 2 4 2 0 1 0 2 3 2 3 3 3 2\n",
      " 1 0 3 5 2 1 1 2 2 5 4 1 2 2 5 1 1 2 0 1 3 0 2 2 1 2 1 0 1 3 0 2 4 1 1 2 3\n",
      " 2 1 1 4 4 1 3 0 1 5 2 1 2 4 4 1 1 1 1 2 1 1 0 3 3 0 1 1 3 1 0 1 2 2 2 1 1\n",
      " 4] [4 5 2 3 3 7 5 5 4 2 5 5 7 6 6 5 5 8 6 3 4 5 7 3 5 4 6 3 4 4 6 6 3 3 6 6 7\n",
      " 3 6 2 5 4 8 3 4 6 3 3 5 7 5 2 4 6 6 3 3 4 3 3 7 6 6 6 3 6 4 2 3 6 7 7 7 5\n",
      " 2 3 4 5 6 3 5 5 6 7 7 6 9 3 5 5 3 7 3 3 3 6 4 6 7 5 6 3 5 4 2 3 4 3 3 3 5\n",
      " 2 6 5 5 6 5 6 6 6 5 4 8 5 4 6 5 5 4 3 4 5 4 5 6 3 9 4 5 5 5 2 5 6 6 4 5 5\n",
      " 4 4 6 5 6 7 7 7 5 3 6 5 4 1 6 4 5 3 6 6 6 3 7 3 5 1 7 4 5 2 6 9 4 6 4 5 5\n",
      " 5 6 5 8 3 6 3 6 4 4 4 2 6 4 1 3 7 4 7 2 6 6 4 5 8 5 6 5 4 6 6 4 6 4 3 5 4\n",
      " 4 5 5 3 3 4 4 6 6 8 6 5 4 2 2 5 4 4 3 6 5 2 5 6 6 4 2 6 4 5 4 5 6 6 4 8 5\n",
      " 6 4 4 7 5 4 2 7 6 3 4 3 3 4 3 5 3 3 5 5 7 3 8 5 5 7 7 7 7 6 5 3 3 6 4 6 6\n",
      " 5 8 5 5 5 2 3 4 5 6 1 5 4 7 7 3 7 4 5 5 3 2 6 3 4 4 7 3 5 3 6 5 3 5 2 4 7\n",
      " 6 3 4 3 5 6 3 6 5 7 4 3 8 7 7 5 3 5 7 3 4 3 5 5 7 2 4 4 5 7 4 3 6 8 5 6 5\n",
      " 7 4 5 5 6 5 4 4 6 1 6 7 5 4 4 6 5 4 6 7 4 4 6 7 5 6 6 3 5 8 7 3 5 4 6 5 3\n",
      " 7 7 7 7 5 5 4 2 4 2 4 6 3 3 5 7 9 4 7 7 6 6 3 5 4 9 6 7 3 4 3 4 4 4 4 4 4\n",
      " 6 6 6 4 5 3 6 5 6 5 7 4 6 7 3 5 6 7 7 6 4 6 6 3 3 4 4 7 3 5 4 5 4 8 5 6 5\n",
      " 3 7 7 4 6 3 4 7 2 3 6 4 5 4 8 7 7 5 5 3 2 3 3 4 3 4 2 5 4 4 4 4 4 6 3 1 4\n",
      " 8 1 4 5 5 7 9 4 5 7 3 7 6 6 5 6 6 3 3 4 4 3 6 4 5 5 4 7 8 8 6 3 5 8 6 6 5\n",
      " 5 7 5 3 6 4 2 4 7 8 4 3 7 7 7 6 5 9 4 3 3 7 5 6 8 9 4 7 5 4 4 4 6 7 4 5 6\n",
      " 3 4 2 5 6 7 3 7 6 6 4 5 3 3 7 5 4 6 5 6 7 6 6 5 5 7 3 5 3 5 4 6 8 5 4 5 3\n",
      " 8 6 3 6 5 6 5 6 8 6 6 6 6 3 6 4 3 4 4 4 3 4 8 5 3 4 4 4 5 6 5 4 3 7 7 5 3\n",
      " 7 6 2 6 4 6 5 3 5 4 5 7 7 6 5 5 6 5 8 4 8 4 8 7 6 7 3 6 5 2 5 5 4 6 4 5 7\n",
      " 7 2 9 5 6 6 6 6 3 6 3 9 4 5 3 7 3 7 7 3 7 5 4 4 7 6 9 5 6 7 5 3 6 7 6 3 5\n",
      " 3 7 5 5 4 5 6 4 4 7 6 3 4 6 5 7 6 5 5 5 8 4 6 5 6 5 6 3 5 7 4 4 7 2 4 4 2\n",
      " 5 5 7 4 5 5 6 4 7 6 4 4 7 4 5 2 4 5 3 5 5 3 5 8 6 4 6 2 5 4 6 6 5 4 3 6 4\n",
      " 2 6 5 6 3 4 6 7 2 6 4 3 7 3 3 4 6 3 2 7 6 4 5 5 4 5 3 7 7 4 6 4 6 6 7 5 6\n",
      " 5 4 6 5 3 6 4 2 7 5 3 5 7 4 4 7 7 4 6 8 5 4 5 7 4 3 7 4 5 4 4 6 1 5 5 7 5\n",
      " 5 3 7 4 5 0 5 5 5 6 2 7 7 5 6 3 4 4 7 6 5 5 5 3 3 5 4 8 4 5 5 3 6 3 3 8 5\n",
      " 6 4 4 5 7 6 6 7 4 7 3 3 5 4 5 7 5 4 3 4 5 6 2 4 8 4 5 5 5 6 3 6 4 4 6 6 2\n",
      " 6 4 5 3 5 5 4 1 4 8 5 4 5 6 4 4 7 7 3 6 8 6 4 5 9 7 6 6 6 7 4 5 2 8 4 7 5\n",
      " 5]\n"
     ]
    },
    {
     "data": {
      "image/png": "[encoded data removed]",
      "text/plain": [
       "<matplotlib.figure.Figure at 0x1193e3e80>"
      ]
     },
     "metadata": {},
     "output_type": "display_data"
    }
   ],
   "source": [
    "sample1 = np.random.choice(pop1,1000,replace=True)\n",
    "sample2 = np.random.choice(pop2,1000,replace=True)\n",
    "#print(sample1,sample2)\n",
    "plt.hist(sample1,alpha=0.7,label='Sample 1')\n",
    "plt.hist(sample2,alpha=0.7,label='Sample 2')\n",
    "plt.legend(loc='upper right')\n",
    "plt.show()"
   ]
  },
  {
   "cell_type": "code",
   "execution_count": 47,
   "metadata": {},
   "outputs": [
    {
     "name": "stdout",
     "output_type": "stream",
     "text": [
      "1.989\n",
      "4.939\n",
      "1.2405156186\n",
      "1.60289706469\n",
      "2.95\n"
     ]
    }
   ],
   "source": [
    "print(sample1.mean())\n",
    "print(sample2.mean())\n",
    "print(sample1.std())\n",
    "print(sample2.std())\n",
    "\n",
    "diff = sample2.mean() - sample1.mean()\n",
    "print(diff)"
   ]
  },
  {
   "cell_type": "code",
   "execution_count": 48,
   "metadata": {
    "scrolled": true
   },
   "outputs": [
    {
     "name": "stdout",
     "output_type": "stream",
     "text": [
      "2.95 0.0640949139948\n",
      "46.0254927597\n",
      "Ttest_indResult(statistic=46.002474257240017, pvalue=3.734432185360552e-310)\n"
     ]
    }
   ],
   "source": [
    "size = np.array([len(sample1),len(sample2)])\n",
    "sd = np.array([sample1.std(),sample2.std()])\n",
    "\n",
    "diff_se = (sum(sd ** 2/size)) ** 0.5\n",
    "\n",
    "print(diff,diff_se)\n",
    "print(diff/diff_se)\n",
    "print(ttest_ind(sample2,sample1,equal_var=False))"
   ]
  },
  {
   "cell_type": "code",
   "execution_count": null,
   "metadata": {
    "collapsed": true
   },
   "outputs": [],
   "source": []
  }
 ],
 "metadata": {
  "kernelspec": {
   "display_name": "Python 3",
   "language": "python",
   "name": "python3"
  },
  "language_info": {
   "codemirror_mode": {
    "name": "ipython",
    "version": 3
   },
   "file_extension": ".py",
   "mimetype": "text/x-python",
   "name": "python",
   "nbconvert_exporter": "python",
   "pygments_lexer": "ipython3",
   "version": "3.6.1"
  }
 },
 "nbformat": 4,
 "nbformat_minor": 2
}
